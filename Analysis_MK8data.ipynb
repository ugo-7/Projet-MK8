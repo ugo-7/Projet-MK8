{
 "cells": [
  {
   "cell_type": "code",
   "execution_count": null,
   "metadata": {
    "executionInfo": {
     "elapsed": 15502,
     "status": "ok",
     "timestamp": 1642357647712,
     "user": {
      "displayName": "Ugo Devoille",
      "photoUrl": "https://lh3.googleusercontent.com/a/default-user=s64",
      "userId": "07253681894519371583"
     },
     "user_tz": -60
    },
    "id": "CCxuX2HlYgcd",
    "pycharm": {
     "name": "#%%\n"
    }
   },
   "outputs": [],
   "source": [
    "import pandas as pd\n",
    "import numpy as np\n",
    "\n",
    "import plotly.graph_objects as go\n",
    "import plotly.express as px\n",
    "\n",
    "from plotly.subplots import make_subplots\n",
    "from sklearn.decomposition import PCA"
   ]
  },
  {
   "cell_type": "code",
   "execution_count": null,
   "metadata": {
    "pycharm": {
     "name": "#%%\n"
    }
   },
   "outputs": [],
   "source": [
    "df = pd.read_excel('Courses_mk8.xlsx')\n",
    "df = df.fillna(0)\n",
    "\n",
    "# Mise en place des classement en version plus facile à interpreter\n",
    "for column in df.iloc[:, 4:]:\n",
    "        df[column] = df[column].apply(lambda x : (str(column)+\" \")*int(x))\n",
    "df[\"Places\"] = df[1]+df[2]+df[3]+df[4]+df[5]+df[6]+df[7]+df[8]+df[9]+df[10]+df[11]+df[12]\n",
    "df[\"Places\"] = df[\"Places\"].apply(lambda x : [i for i in x.split(' ')[:-1]])\n",
    "\n",
    "df = df[['Course', 'Tiers', 'Extension', 'Coupe', 'Places']]"
   ]
  },
  {
   "cell_type": "code",
   "execution_count": null,
   "metadata": {
    "pycharm": {
     "name": "#%%\n"
    }
   },
   "outputs": [],
   "source": [
    "df.loc[:, 'mean']  = df['Places'].apply(lambda row: np.mean(list(map(int, row))) if len(row)>0 else None)\n",
    "df.loc[:, 'std']   = df['Places'].apply(lambda row: np.std(list(map(int, row))) if len(row)>0 else None)\n",
    "df.loc[:, 'count'] = df['Places'].apply(lambda row: len(row))"
   ]
  },
  {
   "cell_type": "code",
   "execution_count": null,
   "metadata": {
    "pycharm": {
     "name": "#%%\n"
    },
    "scrolled": true
   },
   "outputs": [],
   "source": [
    "df[df['Tiers']=='A']"
   ]
  },
  {
   "cell_type": "code",
   "execution_count": null,
   "metadata": {
    "colab": {
     "base_uri": "https://localhost:8080/",
     "height": 263
    },
    "executionInfo": {
     "elapsed": 577,
     "status": "ok",
     "timestamp": 1642357663497,
     "user": {
      "displayName": "Ugo Devoille",
      "photoUrl": "https://lh3.googleusercontent.com/a/default-user=s64",
      "userId": "07253681894519371583"
     },
     "user_tz": -60
    },
    "id": "VEH7FXWgRh7d",
    "outputId": "81632d72-89de-4f73-fbfa-fe6cd6d91353",
    "pycharm": {
     "name": "#%%\n"
    }
   },
   "outputs": [],
   "source": [
    "name = 'Gorge Champignon [Wii]'\n",
    "df_name = df[df['Course'] == name]\n",
    "\n",
    "fig = make_subplots(rows=1, cols=2, subplot_titles=(name, \"All\"))\n",
    "\n",
    "fig.add_trace(go.Histogram(x=df_name['Places'].values[0]), row=1, col=1)\n",
    "fig.add_trace(go.Histogram(x=df['Places'].values.sum()), row=1, col=2)\n",
    "\n",
    "fig.update_xaxes(categoryorder='array', categoryarray= [str(i) for i in range(1, 13)])\n",
    "fig.update_layout(showlegend=False, bargap=.1)\n",
    "\n",
    "fig.show()"
   ]
  },
  {
   "cell_type": "code",
   "execution_count": null,
   "metadata": {
    "pycharm": {
     "name": "#%%\n"
    }
   },
   "outputs": [],
   "source": [
    "df_switch = df[df['Extension'] == \"Switch\"]\n",
    "df_others = df[df['Extension'] != \"Switch\"]\n",
    "\n",
    "fig = make_subplots(rows=1, cols=2, subplot_titles=(\"Switch\", \"Others\"))\n",
    "\n",
    "fig.add_trace(go.Histogram(x=df_switch['Places'].values.sum()), row=1, col=1)\n",
    "fig.add_trace(go.Histogram(x=df_others['Places'].values.sum()), row=1, col=2)\n",
    "\n",
    "fig.update_xaxes(categoryorder='array', categoryarray= [str(i) for i in range(1, 13)])\n",
    "fig.update_layout(showlegend=False, bargap=.1)\n",
    "\n",
    "fig.show()"
   ]
  },
  {
   "cell_type": "code",
   "execution_count": null,
   "metadata": {
    "colab": {
     "base_uri": "https://localhost:8080/",
     "height": 262
    },
    "executionInfo": {
     "elapsed": 235,
     "status": "ok",
     "timestamp": 1642357670689,
     "user": {
      "displayName": "Ugo Devoille",
      "photoUrl": "https://lh3.googleusercontent.com/a/default-user=s64",
      "userId": "07253681894519371583"
     },
     "user_tz": -60
    },
    "id": "R_3w9kRoNUqH",
    "outputId": "aa99ac24-ae00-4759-fa05-8e29e5008097",
    "pycharm": {
     "name": "#%%\n"
    },
    "scrolled": false
   },
   "outputs": [],
   "source": [
    "vec_tiers_name = ['A', 'B', 'C', 'D', 'E', 'F']\n",
    "fig = make_subplots(rows=6, cols=1)\n",
    "\n",
    "mean_tiers = []\n",
    "\n",
    "for i, tiers_name in enumerate(vec_tiers_name):\n",
    "        \n",
    "    df_tiers = df[df['Tiers'] == tiers_name]\n",
    "    x = df_tiers['Places'].values.sum()\n",
    "    mean_x = round(np.mean(list(map(int, x))), 2)\n",
    "    fig.add_trace(go.Histogram(x=x, name=tiers_name+f\" ({mean_x})\"), row=i+1, col=1)\n",
    "\n",
    "fig.update_xaxes(categoryorder='array', categoryarray= [str(i) for i in range(1, 13)])\n",
    "fig.update_layout(legend=dict(orientation=\"h\", xanchor=\"center\", yanchor=\"bottom\", y=1.02, x=0.5), bargap=.1, height=1500)\n",
    "fig.show()"
   ]
  },
  {
   "cell_type": "code",
   "execution_count": null,
   "metadata": {
    "pycharm": {
     "name": "#%%\n"
    }
   },
   "outputs": [],
   "source": [
    "vec_tiers_name = ['Switch', 'Tour', '3DS', 'Wii', 'DS', 'GBA', 'GCN', 'SNES']\n",
    "fig = make_subplots(rows=8, cols=1)\n",
    "\n",
    "mean_tiers = []\n",
    "\n",
    "for i, tiers_name in enumerate(vec_tiers_name):\n",
    "        \n",
    "    df_tiers = df[df['Extension'] == tiers_name]\n",
    "    x = df_tiers['Places'].values.sum()\n",
    "    mean_x = round(np.mean(list(map(int, x))), 2)\n",
    "    fig.add_trace(go.Histogram(x=x, name=tiers_name+f\" ({mean_x})\"), row=i+1, col=1)\n",
    "\n",
    "fig.update_xaxes(categoryorder='array', categoryarray= [str(i) for i in range(1, 13)])\n",
    "fig.update_layout(legend=dict(orientation=\"h\", xanchor=\"center\", yanchor=\"bottom\", y=1.02, x=0.5), bargap=.1, height=1500)\n",
    "fig.show()"
   ]
  },
  {
   "cell_type": "code",
   "execution_count": null,
   "metadata": {
    "pycharm": {
     "name": "#%%\n"
    },
    "scrolled": false
   },
   "outputs": [],
   "source": [
    "df.sort_values(by = 'count')"
   ]
  },
  {
   "cell_type": "code",
   "execution_count": null,
   "metadata": {
    "pycharm": {
     "name": "#%%\n"
    }
   },
   "outputs": [],
   "source": [
    "df_for_PCA = df[df['count'] > 10].dropna()\n",
    "X = df_for_PCA[['mean', 'std', 'count']]\n",
    "\n",
    "pca = PCA(n_components=2)\n",
    "components = pca.fit_transform(X)\n",
    "\n",
    "fig = px.scatter(components, x=0, y=1, text=df_for_PCA['Course'])\n",
    "fig.show()"
   ]
  },
  {
   "cell_type": "code",
   "execution_count": null,
   "metadata": {
    "pycharm": {
     "name": "#%%\n"
    }
   },
   "outputs": [],
   "source": [
    "pca"
   ]
  }
 ],
 "metadata": {
  "colab": {
   "authorship_tag": "ABX9TyOwpOI1SU1JtE7ciQkBNoo0",
   "name": "Analysis_MK8data.ipynb",
   "provenance": []
  },
  "kernelspec": {
   "display_name": "Python 3 (ipykernel)",
   "language": "python",
   "name": "python3"
  },
  "language_info": {
   "codemirror_mode": {
    "name": "ipython",
    "version": 3
   },
   "file_extension": ".py",
   "mimetype": "text/x-python",
   "name": "python",
   "nbconvert_exporter": "python",
   "pygments_lexer": "ipython3",
   "version": "3.9.7"
  }
 },
 "nbformat": 4,
 "nbformat_minor": 1
}
